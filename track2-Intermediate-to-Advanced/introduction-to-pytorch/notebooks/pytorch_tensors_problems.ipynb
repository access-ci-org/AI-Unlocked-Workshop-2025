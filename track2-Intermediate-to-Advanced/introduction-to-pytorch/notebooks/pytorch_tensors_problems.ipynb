{
 "cells": [
  {
   "attachments": {},
   "cell_type": "markdown",
   "id": "c0a5f9b2-2737-4adc-8bb1-881ad2bf8fb3",
   "metadata": {},
   "source": [
    "# PyTorch Tensor Notebook #\n",
    "This notebook will allow you to get practice in utilizing tensors in PyTorch and explore their proerties and uses.  Code excersises denoted by a problem number (i.e. Problem #1) will include a task and a code block that asks for your solution.  These blocks will be denoted by comments of the form '# YOUR CODE HERE #'.  The code immediately following include assertions that are used to check completeness of the response.  They will raise an exception if the previous solution is not complete or not correct.\n",
    "\n",
    "## Declaring, Initializing, and Operating on PyTorch Tensors ##\n",
    "\n",
    "Reference:  The Linux Foundation, \"Tensors-PyTorch Tutorials 2.6.0 +cu124 documentation,\" pytorch.org https://pytorch.org/tutorials/beginner/basics/tensorqs_tutorial.html (accessed Mar. 12, 2025)."
   ]
  },
  {
   "cell_type": "code",
   "execution_count": null,
   "id": "b8baf1b6-a101-428c-956b-4bee996e3370",
   "metadata": {},
   "outputs": [],
   "source": [
    "import torch\n",
    "import numpy as np"
   ]
  },
  {
   "cell_type": "markdown",
   "id": "e042e401-ef2a-477c-a319-ee5752d49260",
   "metadata": {},
   "source": [
    "**Problem #1:**  Given the data in python list (data) and numpy array format (numpy_data).  Initialize a PyTorch tensor with the data named \"pt_tensor\", using data, and \"pt_tensor_numpy\", using numpy_data."
   ]
  },
  {
   "cell_type": "code",
   "execution_count": null,
   "id": "05988e93-2a2f-4adb-b15e-6698f8805871",
   "metadata": {},
   "outputs": [],
   "source": [
    "data = [[3, 6, 9, 12],[7, 14, 21, 28],[9, 18, 27, 36]]\n",
    "numpy_data = np.array(data)\n",
    "\n",
    "# YOUR CODE HERE #\n",
    "\n",
    "assert pt_tensor.shape == (3,4)\n",
    "assert pt_tensor_numpy.shape == (3,4)\n",
    "assert (pt_tensor - pt_tensor_numpy).sum().item() == 0"
   ]
  },
  {
   "cell_type": "markdown",
   "id": "1cc83551-bdc2-40a5-a5dd-e6cfc1ef1806",
   "metadata": {},
   "source": [
    "**Problem #2:**  Change the data type of the \"pt_tensor\" PyTorch tensor to a float (hint: use torch.float) and put resulting tensor in \"pt_tensor_float\"."
   ]
  },
  {
   "cell_type": "code",
   "execution_count": null,
   "id": "46b5fc63-e026-4f6e-90b9-4ae7b4d76910",
   "metadata": {},
   "outputs": [],
   "source": [
    "# YOUR CODE HERE #\n",
    "\n",
    "assert pt_tensor_float.dtype == torch.float"
   ]
  },
  {
   "cell_type": "markdown",
   "id": "c6f49004-8461-427c-ab71-2b689ad112d5",
   "metadata": {},
   "source": [
    "**Problem #3:**  Create a tensor of dimension size (choose suitable values saved to a variable named \"size\") initialized with ones, zeros, and random numbers. These tensors should be named \"tensor_ones\", \"tenor_zeros\", and \"tensor_rand\"."
   ]
  },
  {
   "cell_type": "code",
   "execution_count": null,
   "id": "608ab13c-7c50-42ea-8920-394b0015034a",
   "metadata": {},
   "outputs": [],
   "source": [
    "# YOUR CODE HERE #\n",
    "\n",
    "assert (tensor_ones == 1).all()\n",
    "assert (tensor_zeros == 0).all()\n",
    "assert ((0 <= tensor_rand).logical_and(tensor_rand < 1)).all()"
   ]
  },
  {
   "cell_type": "markdown",
   "id": "5129d03f-dd0a-4a24-b6ff-1b393e624e8d",
   "metadata": {},
   "source": [
    "**Problem #4:**  Create four random tensors of dimension (m, n, p), (m,n), (n), and (m).  Save the dimensions in variables m, n, and p.  The tensors should be named \"A\", \"B\", \"a\", and \"b\", respectively."
   ]
  },
  {
   "cell_type": "code",
   "execution_count": null,
   "id": "f5f0cc21-b740-4efe-baa9-40078a63a256",
   "metadata": {},
   "outputs": [],
   "source": [
    "# YOUR CODE HERE #\n",
    "\n",
    "assert (A.shape == (m,n,p)) and ((0 <= A).logical_and(A < 1)).all()\n",
    "assert (B.shape == (m,n)) and ((0 <= B).logical_and(B < 1)).all()\n",
    "assert (a.shape[0] == (n)) and ((0 <= a).logical_and(a < 1)).all()\n",
    "assert (b.shape[0] == (m)) and ((0 <= b).logical_and(b < 1)).all()"
   ]
  },
  {
   "cell_type": "markdown",
   "id": "0c4d7b4f-1342-4aa1-bba9-52fa441a64d6",
   "metadata": {},
   "source": [
    "**Problem #5:**  Using the tensors A, B, a, and b from above.  Perform the following matrix calculations **y** = (**B<sup>T</sup>b** + **a**) and  **Z** = **yA**.   "
   ]
  },
  {
   "cell_type": "code",
   "execution_count": null,
   "id": "05ff2501-063d-4989-a76f-f284ac8cf177",
   "metadata": {},
   "outputs": [],
   "source": [
    "# YOUR CODE HERE #\n",
    "\n",
    "assert y.shape[0] == (n)\n",
    "assert Z.shape == (m,p)"
   ]
  },
  {
   "cell_type": "markdown",
   "id": "da3eb8a3-da1d-44e8-b34a-32e4002000a3",
   "metadata": {},
   "source": [
    "**Problem #6:**  Using the tensors A, B, a, and b from above.  Reshape B to dimensions (m,n,1) and perform the following matrix calculation **k** = **A** + **B**.  "
   ]
  },
  {
   "cell_type": "code",
   "execution_count": null,
   "id": "bdcf0106-0cf5-48e9-8b1e-daed244c5ed2",
   "metadata": {},
   "outputs": [],
   "source": [
    "# YOUR CODE HERE #\n",
    "\n",
    "assert B.shape == (m,n,1)\n",
    "assert k.shape == (m,n,p)"
   ]
  },
  {
   "cell_type": "markdown",
   "id": "22f0c581-c72d-4219-b114-ff547e843fd2",
   "metadata": {},
   "source": [
    "## Using GPUs with Tensors ##"
   ]
  },
  {
   "cell_type": "markdown",
   "id": "73919385-527e-424d-9c66-ab892efab5ac",
   "metadata": {},
   "source": [
    "**Problem #7:** Check to see if a cuda device is available, if so set \"device\" to that torch.device(...)."
   ]
  },
  {
   "cell_type": "code",
   "execution_count": null,
   "id": "112314be-f8f6-455b-a75e-3fa8c3f29c98",
   "metadata": {},
   "outputs": [],
   "source": [
    "device = torch.device('cpu')\n",
    "\n",
    "# YOUR CODE HERE #\n",
    "\n",
    "print(f\"Using device - {device}\")\n",
    "\n",
    "assert isinstance(device, torch.device)\n",
    "assert torch.cuda.is_available() and device == torch.device('cuda') or torch.device('cpu')"
   ]
  },
  {
   "cell_type": "markdown",
   "id": "2c0dc70e-d3e4-48fe-9aac-105d2c0fc234",
   "metadata": {},
   "source": [
    "**Problem #8:** Create a random tensor, \"A\" with dimensions (m,n) and \"B\" with dimensions (n,m) on the current device, GPU if available.  Calculate the matrix multiplicaiton **C** = **AB**."
   ]
  },
  {
   "cell_type": "code",
   "execution_count": null,
   "id": "f7d4b39f-a5a1-42f2-ba78-aedaf7e8d302",
   "metadata": {},
   "outputs": [],
   "source": [
    "# YOUR CODE HERE #\n",
    "\n",
    "assert (A.shape == (m,n)) and ((0 <= A).logical_and(A < 1)).all()\n",
    "assert (B.shape == (n,m)) and ((0 <= B).logical_and(B < 1)).all()\n",
    "assert A.device == device and B.device == device and C.device == device\n",
    "assert C.shape == (m,m)"
   ]
  },
  {
   "cell_type": "markdown",
   "id": "16e25716-370a-49dd-960a-a96fab55c7f8",
   "metadata": {},
   "source": [
    "## Tensor Parameters and Automatic Differentiation ##\n",
    "\n",
    "Reference:  The Linux Foundation, \"Automatic Differentiation wtih torch.autograd - PyTorch Tutorials 2.6.0 +cu124 documentation,\" pytorch.org https://pytorch.org/tutorials/beginner/basics/autogradqs_tutorial.html (accessed Mar. 13, 2025)."
   ]
  },
  {
   "cell_type": "markdown",
   "id": "ddaf0df2-4f04-40c3-9904-1487351017c7",
   "metadata": {},
   "source": [
    "**Problem #9:** Create a random tensor, \"D\" with dimensions (p,m) and set as a parameter. Hint: Use requires_grad and the same device as the predefined tensors. Use the defined tensors, \"x\" and \"r\" to perform the operation **y** = **D(xB)** + **r**  Calculate the mean squared error loss from the given tensor, \"y_0\", name the result \"mse_loss\".  Average the elements of the resulting vector together.  Hint: Use .mean()."
   ]
  },
  {
   "cell_type": "code",
   "execution_count": null,
   "id": "e4bcee08-06a0-4a76-8535-cf753eac88cc",
   "metadata": {},
   "outputs": [],
   "source": [
    "y_0 = torch.rand(p,device=device)\n",
    "x = torch.ones(n,device=device)\n",
    "r = torch.rand(p,device=device)\n",
    "\n",
    "# YOUR CODE HERE #\n",
    "\n",
    "mse_loss.backward()\n",
    "print(f\"The mse_loss is {mse_loss.item()}.\")\n",
    "print(f\"The gradient for parameter 'D' is: {D.grad}\")\n",
    "\n",
    "assert D.shape == (p,m) and ((0 <= D).logical_and(D < 1)).all()\n",
    "assert y.shape[0] == p"
   ]
  }
 ],
 "metadata": {
  "kernelspec": {
   "display_name": "Python 3 (ipykernel)",
   "language": "python",
   "name": "python3"
  },
  "language_info": {
   "codemirror_mode": {
    "name": "ipython",
    "version": 3
   },
   "file_extension": ".py",
   "mimetype": "text/x-python",
   "name": "python",
   "nbconvert_exporter": "python",
   "pygments_lexer": "ipython3",
   "version": "3.10.14"
  }
 },
 "nbformat": 4,
 "nbformat_minor": 5
}
